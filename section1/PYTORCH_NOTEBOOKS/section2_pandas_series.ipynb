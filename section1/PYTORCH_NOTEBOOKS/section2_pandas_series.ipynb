{
 "cells": [
  {
   "cell_type": "code",
   "execution_count": 2,
   "id": "77e76790",
   "metadata": {},
   "outputs": [],
   "source": [
    "import numpy as np\n",
    "import pandas as pd"
   ]
  },
  {
   "cell_type": "code",
   "execution_count": 3,
   "id": "681dbf65",
   "metadata": {},
   "outputs": [],
   "source": [
    "labels = ['a','b','c']"
   ]
  },
  {
   "cell_type": "code",
   "execution_count": 4,
   "id": "d9e58c81",
   "metadata": {},
   "outputs": [],
   "source": [
    "mylist = [10, 20, 30]"
   ]
  },
  {
   "cell_type": "code",
   "execution_count": 5,
   "id": "82c7c559",
   "metadata": {},
   "outputs": [],
   "source": [
    "arr = np.array(mylist)"
   ]
  },
  {
   "cell_type": "code",
   "execution_count": 6,
   "id": "cf1c403d",
   "metadata": {},
   "outputs": [
    {
     "data": {
      "text/plain": [
       "array([10, 20, 30])"
      ]
     },
     "execution_count": 6,
     "metadata": {},
     "output_type": "execute_result"
    }
   ],
   "source": [
    "arr"
   ]
  },
  {
   "cell_type": "code",
   "execution_count": 7,
   "id": "7448664c",
   "metadata": {},
   "outputs": [],
   "source": [
    "d = {\"a\": 10, \"b\":20, \"c\": 30}"
   ]
  },
  {
   "cell_type": "code",
   "execution_count": 8,
   "id": "56189c3e",
   "metadata": {},
   "outputs": [
    {
     "data": {
      "text/plain": [
       "0    10\n",
       "1    20\n",
       "2    30\n",
       "dtype: int64"
      ]
     },
     "execution_count": 8,
     "metadata": {},
     "output_type": "execute_result"
    }
   ],
   "source": [
    "pd.Series(data=mylist)"
   ]
  },
  {
   "cell_type": "code",
   "execution_count": 9,
   "id": "01c564be",
   "metadata": {},
   "outputs": [
    {
     "data": {
      "text/plain": [
       "0    10\n",
       "1    20\n",
       "2    30\n",
       "dtype: int64"
      ]
     },
     "execution_count": 9,
     "metadata": {},
     "output_type": "execute_result"
    }
   ],
   "source": [
    "pd.Series(data=arr)"
   ]
  },
  {
   "cell_type": "code",
   "execution_count": 10,
   "id": "1b4013ab",
   "metadata": {},
   "outputs": [
    {
     "data": {
      "text/plain": [
       "a    10\n",
       "b    20\n",
       "c    30\n",
       "dtype: int64"
      ]
     },
     "execution_count": 10,
     "metadata": {},
     "output_type": "execute_result"
    }
   ],
   "source": [
    "pd.Series(data=arr, index=labels)"
   ]
  },
  {
   "cell_type": "code",
   "execution_count": 11,
   "id": "48f2c5a7",
   "metadata": {},
   "outputs": [
    {
     "data": {
      "text/plain": [
       "0     10\n",
       "1      a\n",
       "2    4.4\n",
       "dtype: object"
      ]
     },
     "execution_count": 11,
     "metadata": {},
     "output_type": "execute_result"
    }
   ],
   "source": [
    "pd.Series(data=[10,'a',4.4])"
   ]
  },
  {
   "cell_type": "code",
   "execution_count": 13,
   "id": "bd1ea585",
   "metadata": {},
   "outputs": [],
   "source": [
    "ser1 = pd.Series([1, 2, 3, 4], index = ['USA', 'Germany', 'USSR', 'Japan'])"
   ]
  },
  {
   "cell_type": "code",
   "execution_count": 14,
   "id": "33fc47cb",
   "metadata": {},
   "outputs": [
    {
     "data": {
      "text/plain": [
       "USA        1\n",
       "Germany    2\n",
       "USSR       3\n",
       "Japan      4\n",
       "dtype: int64"
      ]
     },
     "execution_count": 14,
     "metadata": {},
     "output_type": "execute_result"
    }
   ],
   "source": [
    "ser1"
   ]
  },
  {
   "cell_type": "code",
   "execution_count": 15,
   "id": "76f36a51",
   "metadata": {},
   "outputs": [
    {
     "data": {
      "text/plain": [
       "1"
      ]
     },
     "execution_count": 15,
     "metadata": {},
     "output_type": "execute_result"
    }
   ],
   "source": [
    "ser1['USA']"
   ]
  },
  {
   "cell_type": "code",
   "execution_count": 17,
   "id": "3dd46f98",
   "metadata": {},
   "outputs": [],
   "source": [
    "ser2 = pd.Series([1,4, 5,6], index=['USA', 'Germany', 'Italy', 'Japan'])"
   ]
  },
  {
   "cell_type": "code",
   "execution_count": 18,
   "id": "b474fb9b",
   "metadata": {},
   "outputs": [
    {
     "data": {
      "text/plain": [
       "USA        1\n",
       "Germany    4\n",
       "Italy      5\n",
       "Japan      6\n",
       "dtype: int64"
      ]
     },
     "execution_count": 18,
     "metadata": {},
     "output_type": "execute_result"
    }
   ],
   "source": [
    "ser2"
   ]
  },
  {
   "cell_type": "code",
   "execution_count": 19,
   "id": "8ce2914a",
   "metadata": {},
   "outputs": [
    {
     "data": {
      "text/plain": [
       "Germany     6.0\n",
       "Italy       NaN\n",
       "Japan      10.0\n",
       "USA         2.0\n",
       "USSR        NaN\n",
       "dtype: float64"
      ]
     },
     "execution_count": 19,
     "metadata": {},
     "output_type": "execute_result"
    }
   ],
   "source": [
    "ser1 + ser2"
   ]
  }
 ],
 "metadata": {
  "kernelspec": {
   "display_name": "Python 3",
   "language": "python",
   "name": "python3"
  },
  "language_info": {
   "codemirror_mode": {
    "name": "ipython",
    "version": 3
   },
   "file_extension": ".py",
   "mimetype": "text/x-python",
   "name": "python",
   "nbconvert_exporter": "python",
   "pygments_lexer": "ipython3",
   "version": "3.6.8"
  }
 },
 "nbformat": 4,
 "nbformat_minor": 5
}
